{
 "cells": [
  {
   "cell_type": "markdown",
   "metadata": {},
   "source": [
    "![](https://sebastianraschka.com/images/blog/2015/singlelayer_neural_networks_files/perceptron_schematic.png)"
   ]
  },
  {
   "cell_type": "code",
   "execution_count": 2,
   "metadata": {},
   "outputs": [],
   "source": [
    "import numpy as np\n",
    "import pandas as pd\n",
    "%matplotlib inline\n",
    "import matplotlib.pyplot as plt\n",
    "from mlxtend.plotting import plot_decision_regions"
   ]
  },
  {
   "cell_type": "code",
   "execution_count": 9,
   "metadata": {},
   "outputs": [],
   "source": [
    "class Perceptron(object):\n",
    "    def __init__(self,eta=0.01,epochs=50): # eta = 学习率 epoch是一个完整的数据集循环次数\n",
    "        self.eta = eta\n",
    "        self.epochs = epochs\n",
    "        \n",
    "    def train(self,X,y,reinitialize_weights=True):\n",
    "        self._w = np.zeros(1 + X.shape[1])\n",
    "        self._errors = []\n",
    "        \n",
    "        for _ in range(self.epochs):\n",
    "            errors = 0\n",
    "            for xi, target in zip(X,y):\n",
    "                update = self.eta * (target - self.predict(xi))\n",
    "                self._w[1:] += update * xi\n",
    "                self._w[0] += update\n",
    "                errors += int(update !=0.0)\n",
    "            self._errors.append(errors)\n",
    "        return self\n",
    "    \n",
    "    def net_input(self,X):\n",
    "        \n",
    "        return np.dot(X, self._w[1:]) + self._w[0] #点乘\n",
    "    \n",
    "    def predict(self, X):\n",
    "        return np.where(self.net_input(X) >= 0.0, 1, -1)"
   ]
  },
  {
   "cell_type": "code",
   "execution_count": 5,
   "metadata": {},
   "outputs": [],
   "source": [
    "df = pd.read_csv('https://archive.ics.uci.edu/ml/machine-learning-databases/iris/iris.data', header=None)"
   ]
  },
  {
   "cell_type": "code",
   "execution_count": 6,
   "metadata": {},
   "outputs": [
    {
     "data": {
      "text/html": [
       "<div>\n",
       "<style scoped>\n",
       "    .dataframe tbody tr th:only-of-type {\n",
       "        vertical-align: middle;\n",
       "    }\n",
       "\n",
       "    .dataframe tbody tr th {\n",
       "        vertical-align: top;\n",
       "    }\n",
       "\n",
       "    .dataframe thead th {\n",
       "        text-align: right;\n",
       "    }\n",
       "</style>\n",
       "<table border=\"1\" class=\"dataframe\">\n",
       "  <thead>\n",
       "    <tr style=\"text-align: right;\">\n",
       "      <th></th>\n",
       "      <th>0</th>\n",
       "      <th>1</th>\n",
       "      <th>2</th>\n",
       "      <th>3</th>\n",
       "      <th>4</th>\n",
       "    </tr>\n",
       "  </thead>\n",
       "  <tbody>\n",
       "    <tr>\n",
       "      <th>0</th>\n",
       "      <td>5.1</td>\n",
       "      <td>3.5</td>\n",
       "      <td>1.4</td>\n",
       "      <td>0.2</td>\n",
       "      <td>Iris-setosa</td>\n",
       "    </tr>\n",
       "    <tr>\n",
       "      <th>1</th>\n",
       "      <td>4.9</td>\n",
       "      <td>3.0</td>\n",
       "      <td>1.4</td>\n",
       "      <td>0.2</td>\n",
       "      <td>Iris-setosa</td>\n",
       "    </tr>\n",
       "    <tr>\n",
       "      <th>2</th>\n",
       "      <td>4.7</td>\n",
       "      <td>3.2</td>\n",
       "      <td>1.3</td>\n",
       "      <td>0.2</td>\n",
       "      <td>Iris-setosa</td>\n",
       "    </tr>\n",
       "    <tr>\n",
       "      <th>3</th>\n",
       "      <td>4.6</td>\n",
       "      <td>3.1</td>\n",
       "      <td>1.5</td>\n",
       "      <td>0.2</td>\n",
       "      <td>Iris-setosa</td>\n",
       "    </tr>\n",
       "    <tr>\n",
       "      <th>4</th>\n",
       "      <td>5.0</td>\n",
       "      <td>3.6</td>\n",
       "      <td>1.4</td>\n",
       "      <td>0.2</td>\n",
       "      <td>Iris-setosa</td>\n",
       "    </tr>\n",
       "  </tbody>\n",
       "</table>\n",
       "</div>"
      ],
      "text/plain": [
       "     0    1    2    3            4\n",
       "0  5.1  3.5  1.4  0.2  Iris-setosa\n",
       "1  4.9  3.0  1.4  0.2  Iris-setosa\n",
       "2  4.7  3.2  1.3  0.2  Iris-setosa\n",
       "3  4.6  3.1  1.5  0.2  Iris-setosa\n",
       "4  5.0  3.6  1.4  0.2  Iris-setosa"
      ]
     },
     "execution_count": 6,
     "metadata": {},
     "output_type": "execute_result"
    }
   ],
   "source": [
    "df.head()"
   ]
  },
  {
   "cell_type": "code",
   "execution_count": 7,
   "metadata": {},
   "outputs": [],
   "source": [
    "y = df.iloc[0:100, 4].values\n",
    "y = np.where(y == 'Iris-setosa', -1, 1)"
   ]
  },
  {
   "cell_type": "code",
   "execution_count": 12,
   "metadata": {},
   "outputs": [],
   "source": [
    "X = df.iloc[0:100, [0,2]].values\n",
    "X[:,0] = (X[:,0] - X[:,0].mean()) / X[:,0].std()\n",
    "X[:,1] = (X[:,1] - X[:,1].mean()) / X[:,1].std()"
   ]
  },
  {
   "cell_type": "code",
   "execution_count": 10,
   "metadata": {},
   "outputs": [],
   "source": [
    "ppn = Perceptron(epochs=10, eta=0.1)"
   ]
  },
  {
   "cell_type": "code",
   "execution_count": 13,
   "metadata": {},
   "outputs": [
    {
     "data": {
      "text/plain": [
       "<__main__.Perceptron at 0x7f40f356c780>"
      ]
     },
     "execution_count": 13,
     "metadata": {},
     "output_type": "execute_result"
    }
   ],
   "source": [
    "ppn.train(X, y)"
   ]
  },
  {
   "cell_type": "code",
   "execution_count": 30,
   "metadata": {},
   "outputs": [
    {
     "name": "stdout",
     "output_type": "stream",
     "text": [
      "Weights: [ 0.2        -0.05356457  0.42156282]\n"
     ]
    }
   ],
   "source": [
    "print('Weights: %s' % ppn._w)"
   ]
  },
  {
   "cell_type": "code",
   "execution_count": 31,
   "metadata": {},
   "outputs": [
    {
     "data": {
      "image/png": "[encoded data removed]",
      "text/plain": [
       "<Figure size 432x288 with 1 Axes>"
      ]
     },
     "metadata": {},
     "output_type": "display_data"
    },
    {
     "data": {
      "image/png": "[encoded data removed]",
      "text/plain": [
       "<Figure size 432x288 with 1 Axes>"
      ]
     },
     "metadata": {},
     "output_type": "display_data"
    }
   ],
   "source": [
    "plot_decision_regions(X, y, clf=ppn)\n",
    "plt.title('Perceptron')\n",
    "plt.xlabel('sepal length [cm]')\n",
    "plt.ylabel('petal length [cm]')\n",
    "plt.show()\n",
    "\n",
    "plt.plot(range(1, len(ppn._errors)+1), ppn._errors, marker='o')\n",
    "plt.xlabel('Iterations')\n",
    "plt.ylabel('Misclassifications')\n",
    "plt.show()"
   ]
  },
  {
   "cell_type": "code",
   "execution_count": 32,
   "metadata": {},
   "outputs": [
    {
     "name": "stderr",
     "output_type": "stream",
     "text": [
      "/root/anaconda3/lib/python3.6/site-packages/mlxtend/_base/_classifier.py:19: FutureWarning: Conversion of the second argument of issubdtype from `int` to `np.signedinteger` is deprecated. In future, it will be treated as `np.int64 == np.dtype(int).type`.\n",
      "  if not np.issubdtype(y[0], int):\n",
      "Iteration: 5/5 | Elapsed: 00:00:00 | ETA: 00:00:00TA: 00:00:00"
     ]
    },
    {
     "data": {
      "image/png": "[encoded data removed]",
      "text/plain": [
       "<Figure size 432x288 with 1 Axes>"
      ]
     },
     "metadata": {},
     "output_type": "display_data"
    },
    {
     "name": "stdout",
     "output_type": "stream",
     "text": [
      "Bias & Weights: [[-0.04500809]\n",
      " [ 0.11048855]]\n"
     ]
    },
    {
     "data": {
      "image/png": "[encoded data removed]",
      "text/plain": [
       "<Figure size 432x288 with 1 Axes>"
      ]
     },
     "metadata": {},
     "output_type": "display_data"
    }
   ],
   "source": [
    "from mlxtend.data import iris_data\n",
    "from mlxtend.plotting import plot_decision_regions\n",
    "from mlxtend.classifier import Perceptron\n",
    "import matplotlib.pyplot as plt\n",
    "\n",
    "# Loading Data\n",
    "\n",
    "X, y = iris_data()\n",
    "X = X[:, [0, 3]] # sepal length and petal width\n",
    "X = X[0:100] # class 0 and class 1\n",
    "y = y[0:100] # class 0 and class 1\n",
    "\n",
    "# standardize\n",
    "X[:,0] = (X[:,0] - X[:,0].mean()) / X[:,0].std()\n",
    "X[:,1] = (X[:,1] - X[:,1].mean()) / X[:,1].std()\n",
    "\n",
    "\n",
    "# Rosenblatt Perceptron\n",
    "\n",
    "ppn = Perceptron(epochs=5, \n",
    "                 eta=0.05, \n",
    "                 random_seed=0,\n",
    "                 print_progress=3)\n",
    "ppn.fit(X, y)\n",
    "\n",
    "plot_decision_regions(X, y, clf=ppn)\n",
    "plt.title('Perceptron - Rosenblatt Perceptron Rule')\n",
    "plt.show()\n",
    "\n",
    "print('Bias & Weights: %s' % ppn.w_)\n",
    "\n",
    "plt.plot(range(len(ppn.cost_)), ppn.cost_)\n",
    "plt.xlabel('Iterations')\n",
    "plt.ylabel('Missclassifications')\n",
    "plt.show()"
   ]
  },
  {
   "cell_type": "code",
   "execution_count": 33,
   "metadata": {},
   "outputs": [
    {
     "data": {
      "text/plain": [
       "array([[-0.5810659 , -1.03824799],\n",
       "       [-0.89430898, -1.03824799],\n",
       "       [-1.20755205, -1.03824799],\n",
       "       [-1.36417359, -1.03824799],\n",
       "       [-0.73768744, -1.03824799],\n",
       "       [-0.11120129, -0.68329141],\n",
       "       [-1.36417359, -0.8607697 ],\n",
       "       [-0.73768744, -1.03824799],\n",
       "       [-1.67741667, -1.03824799],\n",
       "       [-0.89430898, -1.21572628],\n",
       "       [-0.11120129, -1.03824799],\n",
       "       [-1.05093052, -1.03824799],\n",
       "       [-1.05093052, -1.21572628],\n",
       "       [-1.8340382 , -1.21572628],\n",
       "       [ 0.51528486, -1.03824799],\n",
       "       [ 0.35866332, -0.68329141],\n",
       "       [-0.11120129, -0.68329141],\n",
       "       [-0.5810659 , -0.8607697 ],\n",
       "       [ 0.35866332, -0.8607697 ],\n",
       "       [-0.5810659 , -0.8607697 ],\n",
       "       [-0.11120129, -1.03824799],\n",
       "       [-0.5810659 , -0.68329141],\n",
       "       [-1.36417359, -1.03824799],\n",
       "       [-0.5810659 , -0.50581312],\n",
       "       [-1.05093052, -1.03824799],\n",
       "       [-0.73768744, -1.03824799],\n",
       "       [-0.73768744, -0.68329141],\n",
       "       [-0.42444437, -1.03824799],\n",
       "       [-0.42444437, -1.03824799],\n",
       "       [-1.20755205, -1.03824799],\n",
       "       [-1.05093052, -1.03824799],\n",
       "       [-0.11120129, -0.68329141],\n",
       "       [-0.42444437, -1.21572628],\n",
       "       [ 0.04542025, -1.03824799],\n",
       "       [-0.89430898, -1.21572628],\n",
       "       [-0.73768744, -1.03824799],\n",
       "       [ 0.04542025, -1.03824799],\n",
       "       [-0.89430898, -1.21572628],\n",
       "       [-1.67741667, -1.03824799],\n",
       "       [-0.5810659 , -1.03824799],\n",
       "       [-0.73768744, -0.8607697 ],\n",
       "       [-1.52079513, -0.8607697 ],\n",
       "       [-1.67741667, -1.03824799],\n",
       "       [-0.73768744, -0.32833484],\n",
       "       [-0.5810659 , -0.68329141],\n",
       "       [-1.05093052, -0.8607697 ],\n",
       "       [-0.5810659 , -1.03824799],\n",
       "       [-1.36417359, -1.03824799],\n",
       "       [-0.26782283, -1.03824799],\n",
       "       [-0.73768744, -1.03824799],\n",
       "       [ 2.39474331,  1.09149148],\n",
       "       [ 1.45501408,  1.26896977],\n",
       "       [ 2.23812177,  1.26896977],\n",
       "       [ 0.04542025,  0.91401319],\n",
       "       [ 1.61163562,  1.26896977],\n",
       "       [ 0.35866332,  0.91401319],\n",
       "       [ 1.29839254,  1.44644806],\n",
       "       [-0.89430898,  0.38157832],\n",
       "       [ 1.76825716,  0.91401319],\n",
       "       [-0.42444437,  1.09149148],\n",
       "       [-0.73768744,  0.38157832],\n",
       "       [ 0.6719064 ,  1.26896977],\n",
       "       [ 0.82852793,  0.38157832],\n",
       "       [ 0.98514947,  1.09149148],\n",
       "       [ 0.20204178,  0.91401319],\n",
       "       [ 1.92487869,  1.09149148],\n",
       "       [ 0.20204178,  1.26896977],\n",
       "       [ 0.51528486,  0.38157832],\n",
       "       [ 1.14177101,  1.26896977],\n",
       "       [ 0.20204178,  0.55905661],\n",
       "       [ 0.6719064 ,  1.80140464],\n",
       "       [ 0.98514947,  0.91401319],\n",
       "       [ 1.29839254,  1.26896977],\n",
       "       [ 0.98514947,  0.7365349 ],\n",
       "       [ 1.45501408,  0.91401319],\n",
       "       [ 1.76825716,  1.09149148],\n",
       "       [ 2.08150023,  1.09149148],\n",
       "       [ 1.92487869,  1.62392635],\n",
       "       [ 0.82852793,  1.26896977],\n",
       "       [ 0.35866332,  0.38157832],\n",
       "       [ 0.04542025,  0.55905661],\n",
       "       [ 0.04542025,  0.38157832],\n",
       "       [ 0.51528486,  0.7365349 ],\n",
       "       [ 0.82852793,  1.44644806],\n",
       "       [-0.11120129,  1.26896977],\n",
       "       [ 0.82852793,  1.44644806],\n",
       "       [ 1.92487869,  1.26896977],\n",
       "       [ 1.29839254,  0.91401319],\n",
       "       [ 0.20204178,  0.91401319],\n",
       "       [ 0.04542025,  0.91401319],\n",
       "       [ 0.04542025,  0.7365349 ],\n",
       "       [ 0.98514947,  1.09149148],\n",
       "       [ 0.51528486,  0.7365349 ],\n",
       "       [-0.73768744,  0.38157832],\n",
       "       [ 0.20204178,  0.91401319],\n",
       "       [ 0.35866332,  0.7365349 ],\n",
       "       [ 0.35866332,  0.91401319],\n",
       "       [ 1.14177101,  0.91401319],\n",
       "       [-0.5810659 ,  0.55905661],\n",
       "       [ 0.35866332,  0.91401319]])"
      ]
     },
     "execution_count": 33,
     "metadata": {},
     "output_type": "execute_result"
    }
   ],
   "source": [
    "X"
   ]
  },
  {
   "cell_type": "code",
   "execution_count": 51,
   "metadata": {},
   "outputs": [],
   "source": [
    "from sklearn.linear_model import Perceptron\n",
    "X, y = iris_data()\n",
    "X = X[:, [0, 3]] # sepal length and petal width\n",
    "\n",
    "# standardize\n",
    "X[:,0] = (X[:,0] - X[:,0].mean()) / X[:,0].std()\n",
    "X[:,1] = (X[:,1] - X[:,1].mean()) / X[:,1].std()"
   ]
  },
  {
   "cell_type": "code",
   "execution_count": 61,
   "metadata": {},
   "outputs": [
    {
     "name": "stdout",
     "output_type": "stream",
     "text": [
      "Classifier: 0.8484477124183006\n"
     ]
    }
   ],
   "source": [
    "from sklearn.model_selection import cross_val_score\n",
    "ppn = Perceptron(max_iter=28)\n",
    "score = cross_val_score(ppn,X,y)\n",
    "print(\"Classifier: {0}\".format(score.mean()))"
   ]
  },
  {
   "cell_type": "code",
   "execution_count": 45,
   "metadata": {},
   "outputs": [],
   "source": [
    "X, y = iris_data()"
   ]
  },
  {
   "cell_type": "code",
   "execution_count": 46,
   "metadata": {},
   "outputs": [
    {
     "data": {
      "text/plain": [
       "array([[5.1, 3.5, 1.4, 0.2],\n",
       "       [4.9, 3. , 1.4, 0.2],\n",
       "       [4.7, 3.2, 1.3, 0.2],\n",
       "       [4.6, 3.1, 1.5, 0.2],\n",
       "       [5. , 3.6, 1.4, 0.2],\n",
       "       [5.4, 3.9, 1.7, 0.4],\n",
       "       [4.6, 3.4, 1.4, 0.3],\n",
       "       [5. , 3.4, 1.5, 0.2],\n",
       "       [4.4, 2.9, 1.4, 0.2],\n",
       "       [4.9, 3.1, 1.5, 0.1],\n",
       "       [5.4, 3.7, 1.5, 0.2],\n",
       "       [4.8, 3.4, 1.6, 0.2],\n",
       "       [4.8, 3. , 1.4, 0.1],\n",
       "       [4.3, 3. , 1.1, 0.1],\n",
       "       [5.8, 4. , 1.2, 0.2],\n",
       "       [5.7, 4.4, 1.5, 0.4],\n",
       "       [5.4, 3.9, 1.3, 0.4],\n",
       "       [5.1, 3.5, 1.4, 0.3],\n",
       "       [5.7, 3.8, 1.7, 0.3],\n",
       "       [5.1, 3.8, 1.5, 0.3],\n",
       "       [5.4, 3.4, 1.7, 0.2],\n",
       "       [5.1, 3.7, 1.5, 0.4],\n",
       "       [4.6, 3.6, 1. , 0.2],\n",
       "       [5.1, 3.3, 1.7, 0.5],\n",
       "       [4.8, 3.4, 1.9, 0.2],\n",
       "       [5. , 3. , 1.6, 0.2],\n",
       "       [5. , 3.4, 1.6, 0.4],\n",
       "       [5.2, 3.5, 1.5, 0.2],\n",
       "       [5.2, 3.4, 1.4, 0.2],\n",
       "       [4.7, 3.2, 1.6, 0.2],\n",
       "       [4.8, 3.1, 1.6, 0.2],\n",
       "       [5.4, 3.4, 1.5, 0.4],\n",
       "       [5.2, 4.1, 1.5, 0.1],\n",
       "       [5.5, 4.2, 1.4, 0.2],\n",
       "       [4.9, 3.1, 1.5, 0.1],\n",
       "       [5. , 3.2, 1.2, 0.2],\n",
       "       [5.5, 3.5, 1.3, 0.2],\n",
       "       [4.9, 3.1, 1.5, 0.1],\n",
       "       [4.4, 3. , 1.3, 0.2],\n",
       "       [5.1, 3.4, 1.5, 0.2],\n",
       "       [5. , 3.5, 1.3, 0.3],\n",
       "       [4.5, 2.3, 1.3, 0.3],\n",
       "       [4.4, 3.2, 1.3, 0.2],\n",
       "       [5. , 3.5, 1.6, 0.6],\n",
       "       [5.1, 3.8, 1.9, 0.4],\n",
       "       [4.8, 3. , 1.4, 0.3],\n",
       "       [5.1, 3.8, 1.6, 0.2],\n",
       "       [4.6, 3.2, 1.4, 0.2],\n",
       "       [5.3, 3.7, 1.5, 0.2],\n",
       "       [5. , 3.3, 1.4, 0.2],\n",
       "       [7. , 3.2, 4.7, 1.4],\n",
       "       [6.4, 3.2, 4.5, 1.5],\n",
       "       [6.9, 3.1, 4.9, 1.5],\n",
       "       [5.5, 2.3, 4. , 1.3],\n",
       "       [6.5, 2.8, 4.6, 1.5],\n",
       "       [5.7, 2.8, 4.5, 1.3],\n",
       "       [6.3, 3.3, 4.7, 1.6],\n",
       "       [4.9, 2.4, 3.3, 1. ],\n",
       "       [6.6, 2.9, 4.6, 1.3],\n",
       "       [5.2, 2.7, 3.9, 1.4],\n",
       "       [5. , 2. , 3.5, 1. ],\n",
       "       [5.9, 3. , 4.2, 1.5],\n",
       "       [6. , 2.2, 4. , 1. ],\n",
       "       [6.1, 2.9, 4.7, 1.4],\n",
       "       [5.6, 2.9, 3.6, 1.3],\n",
       "       [6.7, 3.1, 4.4, 1.4],\n",
       "       [5.6, 3. , 4.5, 1.5],\n",
       "       [5.8, 2.7, 4.1, 1. ],\n",
       "       [6.2, 2.2, 4.5, 1.5],\n",
       "       [5.6, 2.5, 3.9, 1.1],\n",
       "       [5.9, 3.2, 4.8, 1.8],\n",
       "       [6.1, 2.8, 4. , 1.3],\n",
       "       [6.3, 2.5, 4.9, 1.5],\n",
       "       [6.1, 2.8, 4.7, 1.2],\n",
       "       [6.4, 2.9, 4.3, 1.3],\n",
       "       [6.6, 3. , 4.4, 1.4],\n",
       "       [6.8, 2.8, 4.8, 1.4],\n",
       "       [6.7, 3. , 5. , 1.7],\n",
       "       [6. , 2.9, 4.5, 1.5],\n",
       "       [5.7, 2.6, 3.5, 1. ],\n",
       "       [5.5, 2.4, 3.8, 1.1],\n",
       "       [5.5, 2.4, 3.7, 1. ],\n",
       "       [5.8, 2.7, 3.9, 1.2],\n",
       "       [6. , 2.7, 5.1, 1.6],\n",
       "       [5.4, 3. , 4.5, 1.5],\n",
       "       [6. , 3.4, 4.5, 1.6],\n",
       "       [6.7, 3.1, 4.7, 1.5],\n",
       "       [6.3, 2.3, 4.4, 1.3],\n",
       "       [5.6, 3. , 4.1, 1.3],\n",
       "       [5.5, 2.5, 4. , 1.3],\n",
       "       [5.5, 2.6, 4.4, 1.2],\n",
       "       [6.1, 3. , 4.6, 1.4],\n",
       "       [5.8, 2.6, 4. , 1.2],\n",
       "       [5. , 2.3, 3.3, 1. ],\n",
       "       [5.6, 2.7, 4.2, 1.3],\n",
       "       [5.7, 3. , 4.2, 1.2],\n",
       "       [5.7, 2.9, 4.2, 1.3],\n",
       "       [6.2, 2.9, 4.3, 1.3],\n",
       "       [5.1, 2.5, 3. , 1.1],\n",
       "       [5.7, 2.8, 4.1, 1.3],\n",
       "       [6.3, 3.3, 6. , 2.5],\n",
       "       [5.8, 2.7, 5.1, 1.9],\n",
       "       [7.1, 3. , 5.9, 2.1],\n",
       "       [6.3, 2.9, 5.6, 1.8],\n",
       "       [6.5, 3. , 5.8, 2.2],\n",
       "       [7.6, 3. , 6.6, 2.1],\n",
       "       [4.9, 2.5, 4.5, 1.7],\n",
       "       [7.3, 2.9, 6.3, 1.8],\n",
       "       [6.7, 2.5, 5.8, 1.8],\n",
       "       [7.2, 3.6, 6.1, 2.5],\n",
       "       [6.5, 3.2, 5.1, 2. ],\n",
       "       [6.4, 2.7, 5.3, 1.9],\n",
       "       [6.8, 3. , 5.5, 2.1],\n",
       "       [5.7, 2.5, 5. , 2. ],\n",
       "       [5.8, 2.8, 5.1, 2.4],\n",
       "       [6.4, 3.2, 5.3, 2.3],\n",
       "       [6.5, 3. , 5.5, 1.8],\n",
       "       [7.7, 3.8, 6.7, 2.2],\n",
       "       [7.7, 2.6, 6.9, 2.3],\n",
       "       [6. , 2.2, 5. , 1.5],\n",
       "       [6.9, 3.2, 5.7, 2.3],\n",
       "       [5.6, 2.8, 4.9, 2. ],\n",
       "       [7.7, 2.8, 6.7, 2. ],\n",
       "       [6.3, 2.7, 4.9, 1.8],\n",
       "       [6.7, 3.3, 5.7, 2.1],\n",
       "       [7.2, 3.2, 6. , 1.8],\n",
       "       [6.2, 2.8, 4.8, 1.8],\n",
       "       [6.1, 3. , 4.9, 1.8],\n",
       "       [6.4, 2.8, 5.6, 2.1],\n",
       "       [7.2, 3. , 5.8, 1.6],\n",
       "       [7.4, 2.8, 6.1, 1.9],\n",
       "       [7.9, 3.8, 6.4, 2. ],\n",
       "       [6.4, 2.8, 5.6, 2.2],\n",
       "       [6.3, 2.8, 5.1, 1.5],\n",
       "       [6.1, 2.6, 5.6, 1.4],\n",
       "       [7.7, 3. , 6.1, 2.3],\n",
       "       [6.3, 3.4, 5.6, 2.4],\n",
       "       [6.4, 3.1, 5.5, 1.8],\n",
       "       [6. , 3. , 4.8, 1.8],\n",
       "       [6.9, 3.1, 5.4, 2.1],\n",
       "       [6.7, 3.1, 5.6, 2.4],\n",
       "       [6.9, 3.1, 5.1, 2.3],\n",
       "       [5.8, 2.7, 5.1, 1.9],\n",
       "       [6.8, 3.2, 5.9, 2.3],\n",
       "       [6.7, 3.3, 5.7, 2.5],\n",
       "       [6.7, 3. , 5.2, 2.3],\n",
       "       [6.3, 2.5, 5. , 1.9],\n",
       "       [6.5, 3. , 5.2, 2. ],\n",
       "       [6.2, 3.4, 5.4, 2.3],\n",
       "       [5.9, 3. , 5.1, 1.8]])"
      ]
     },
     "execution_count": 46,
     "metadata": {},
     "output_type": "execute_result"
    }
   ],
   "source": [
    "X"
   ]
  },
  {
   "cell_type": "code",
   "execution_count": 47,
   "metadata": {},
   "outputs": [],
   "source": [
    "X = X[:, [0, 3]]"
   ]
  },
  {
   "cell_type": "code",
   "execution_count": 48,
   "metadata": {},
   "outputs": [
    {
     "data": {
      "text/plain": [
       "array([[5.1, 0.2],\n",
       "       [4.9, 0.2],\n",
       "       [4.7, 0.2],\n",
       "       [4.6, 0.2],\n",
       "       [5. , 0.2],\n",
       "       [5.4, 0.4],\n",
       "       [4.6, 0.3],\n",
       "       [5. , 0.2],\n",
       "       [4.4, 0.2],\n",
       "       [4.9, 0.1],\n",
       "       [5.4, 0.2],\n",
       "       [4.8, 0.2],\n",
       "       [4.8, 0.1],\n",
       "       [4.3, 0.1],\n",
       "       [5.8, 0.2],\n",
       "       [5.7, 0.4],\n",
       "       [5.4, 0.4],\n",
       "       [5.1, 0.3],\n",
       "       [5.7, 0.3],\n",
       "       [5.1, 0.3],\n",
       "       [5.4, 0.2],\n",
       "       [5.1, 0.4],\n",
       "       [4.6, 0.2],\n",
       "       [5.1, 0.5],\n",
       "       [4.8, 0.2],\n",
       "       [5. , 0.2],\n",
       "       [5. , 0.4],\n",
       "       [5.2, 0.2],\n",
       "       [5.2, 0.2],\n",
       "       [4.7, 0.2],\n",
       "       [4.8, 0.2],\n",
       "       [5.4, 0.4],\n",
       "       [5.2, 0.1],\n",
       "       [5.5, 0.2],\n",
       "       [4.9, 0.1],\n",
       "       [5. , 0.2],\n",
       "       [5.5, 0.2],\n",
       "       [4.9, 0.1],\n",
       "       [4.4, 0.2],\n",
       "       [5.1, 0.2],\n",
       "       [5. , 0.3],\n",
       "       [4.5, 0.3],\n",
       "       [4.4, 0.2],\n",
       "       [5. , 0.6],\n",
       "       [5.1, 0.4],\n",
       "       [4.8, 0.3],\n",
       "       [5.1, 0.2],\n",
       "       [4.6, 0.2],\n",
       "       [5.3, 0.2],\n",
       "       [5. , 0.2],\n",
       "       [7. , 1.4],\n",
       "       [6.4, 1.5],\n",
       "       [6.9, 1.5],\n",
       "       [5.5, 1.3],\n",
       "       [6.5, 1.5],\n",
       "       [5.7, 1.3],\n",
       "       [6.3, 1.6],\n",
       "       [4.9, 1. ],\n",
       "       [6.6, 1.3],\n",
       "       [5.2, 1.4],\n",
       "       [5. , 1. ],\n",
       "       [5.9, 1.5],\n",
       "       [6. , 1. ],\n",
       "       [6.1, 1.4],\n",
       "       [5.6, 1.3],\n",
       "       [6.7, 1.4],\n",
       "       [5.6, 1.5],\n",
       "       [5.8, 1. ],\n",
       "       [6.2, 1.5],\n",
       "       [5.6, 1.1],\n",
       "       [5.9, 1.8],\n",
       "       [6.1, 1.3],\n",
       "       [6.3, 1.5],\n",
       "       [6.1, 1.2],\n",
       "       [6.4, 1.3],\n",
       "       [6.6, 1.4],\n",
       "       [6.8, 1.4],\n",
       "       [6.7, 1.7],\n",
       "       [6. , 1.5],\n",
       "       [5.7, 1. ],\n",
       "       [5.5, 1.1],\n",
       "       [5.5, 1. ],\n",
       "       [5.8, 1.2],\n",
       "       [6. , 1.6],\n",
       "       [5.4, 1.5],\n",
       "       [6. , 1.6],\n",
       "       [6.7, 1.5],\n",
       "       [6.3, 1.3],\n",
       "       [5.6, 1.3],\n",
       "       [5.5, 1.3],\n",
       "       [5.5, 1.2],\n",
       "       [6.1, 1.4],\n",
       "       [5.8, 1.2],\n",
       "       [5. , 1. ],\n",
       "       [5.6, 1.3],\n",
       "       [5.7, 1.2],\n",
       "       [5.7, 1.3],\n",
       "       [6.2, 1.3],\n",
       "       [5.1, 1.1],\n",
       "       [5.7, 1.3],\n",
       "       [6.3, 2.5],\n",
       "       [5.8, 1.9],\n",
       "       [7.1, 2.1],\n",
       "       [6.3, 1.8],\n",
       "       [6.5, 2.2],\n",
       "       [7.6, 2.1],\n",
       "       [4.9, 1.7],\n",
       "       [7.3, 1.8],\n",
       "       [6.7, 1.8],\n",
       "       [7.2, 2.5],\n",
       "       [6.5, 2. ],\n",
       "       [6.4, 1.9],\n",
       "       [6.8, 2.1],\n",
       "       [5.7, 2. ],\n",
       "       [5.8, 2.4],\n",
       "       [6.4, 2.3],\n",
       "       [6.5, 1.8],\n",
       "       [7.7, 2.2],\n",
       "       [7.7, 2.3],\n",
       "       [6. , 1.5],\n",
       "       [6.9, 2.3],\n",
       "       [5.6, 2. ],\n",
       "       [7.7, 2. ],\n",
       "       [6.3, 1.8],\n",
       "       [6.7, 2.1],\n",
       "       [7.2, 1.8],\n",
       "       [6.2, 1.8],\n",
       "       [6.1, 1.8],\n",
       "       [6.4, 2.1],\n",
       "       [7.2, 1.6],\n",
       "       [7.4, 1.9],\n",
       "       [7.9, 2. ],\n",
       "       [6.4, 2.2],\n",
       "       [6.3, 1.5],\n",
       "       [6.1, 1.4],\n",
       "       [7.7, 2.3],\n",
       "       [6.3, 2.4],\n",
       "       [6.4, 1.8],\n",
       "       [6. , 1.8],\n",
       "       [6.9, 2.1],\n",
       "       [6.7, 2.4],\n",
       "       [6.9, 2.3],\n",
       "       [5.8, 1.9],\n",
       "       [6.8, 2.3],\n",
       "       [6.7, 2.5],\n",
       "       [6.7, 2.3],\n",
       "       [6.3, 1.9],\n",
       "       [6.5, 2. ],\n",
       "       [6.2, 2.3],\n",
       "       [5.9, 1.8]])"
      ]
     },
     "execution_count": 48,
     "metadata": {},
     "output_type": "execute_result"
    }
   ],
   "source": [
    "X"
   ]
  },
  {
   "cell_type": "code",
   "execution_count": null,
   "metadata": {},
   "outputs": [],
   "source": []
  }
 ],
 "metadata": {
  "kernelspec": {
   "display_name": "Python 3",
   "language": "python",
   "name": "python3"
  },
  "language_info": {
   "codemirror_mode": {
    "name": "ipython",
    "version": 3
   },
   "file_extension": ".py",
   "mimetype": "text/x-python",
   "name": "python",
   "nbconvert_exporter": "python",
   "pygments_lexer": "ipython3",
   "version": "3.6.5"
  }
 },
 "nbformat": 4,
 "nbformat_minor": 2
}
